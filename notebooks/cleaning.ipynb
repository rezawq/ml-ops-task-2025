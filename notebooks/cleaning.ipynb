{
 "cells": [
  {
   "cell_type": "markdown",
   "id": "76c5523a",
   "metadata": {},
   "source": "# Очистка данных"
  },
  {
   "metadata": {
    "ExecuteTime": {
     "end_time": "2025-02-15T14:48:07.278066Z",
     "start_time": "2025-02-15T14:48:07.273054Z"
    }
   },
   "cell_type": "code",
   "source": [
    "from itertools import groupby\n",
    "\n",
    "import findspark\n",
    "from pyspark.sql.functions import isnan, when, count, col, isnull\n",
    "import pyspark.sql.functions as F"
   ],
   "id": "cf84382c083a764f",
   "outputs": [],
   "execution_count": 36
  },
  {
   "cell_type": "markdown",
   "id": "ad83f483",
   "metadata": {},
   "source": "## Считаем данные в формате parquet"
  },
  {
   "cell_type": "code",
   "id": "dbd680b3",
   "metadata": {
    "ExecuteTime": {
     "end_time": "2025-02-15T13:55:33.610542Z",
     "start_time": "2025-02-15T13:55:33.607629Z"
    }
   },
   "source": [
    "import findspark\n",
    "findspark.init()"
   ],
   "outputs": [],
   "execution_count": 3
  },
  {
   "cell_type": "markdown",
   "id": "b353884b",
   "metadata": {},
   "source": [
    "Создадим SparkSession"
   ]
  },
  {
   "cell_type": "code",
   "id": "5a851f7c",
   "metadata": {
    "ExecuteTime": {
     "end_time": "2025-02-15T13:55:48.912233Z",
     "start_time": "2025-02-15T13:55:35.005078Z"
    }
   },
   "source": [
    "from pyspark.sql import SparkSession\n",
    "\n",
    "spark = (\n",
    "    SparkSession\n",
    "        .builder\n",
    "        .appName(\"Data cleaning\")\n",
    "        .getOrCreate()\n",
    ")"
   ],
   "outputs": [],
   "execution_count": 4
  },
  {
   "cell_type": "markdown",
   "id": "af7d9429",
   "metadata": {},
   "source": [
    "\n",
    "Загрузим неочищенные данные."
   ]
  },
  {
   "cell_type": "code",
   "id": "f6b5fb82",
   "metadata": {
    "ExecuteTime": {
     "end_time": "2025-02-15T14:04:56.042124Z",
     "start_time": "2025-02-15T14:04:55.812494Z"
    }
   },
   "source": "df_raw = spark.read.parquet(\"data_convert/data_raw.parquet\")",
   "outputs": [],
   "execution_count": 19
  },
  {
   "cell_type": "code",
   "id": "ee94057b311b3308",
   "metadata": {
    "ExecuteTime": {
     "end_time": "2025-02-15T14:04:58.176099Z",
     "start_time": "2025-02-15T14:04:57.654916Z"
    }
   },
   "source": "df_raw.show(5)     # Show the data",
   "outputs": [
    {
     "name": "stdout",
     "output_type": "stream",
     "text": [
      "+--------------+-------------------+-----------+-----------+---------+---------------+------------+--------+-----------------+\n",
      "|transaction_id|        tx_datetime|customer_id|terminal_id|tx_amount|tx_time_seconds|tx_time_days|tx_fraud|tx_fraud_scenario|\n",
      "+--------------+-------------------+-----------+-----------+---------+---------------+------------+--------+-----------------+\n",
      "|    1755213645|2022-09-15 14:31:22|     476923|          0|    85.44|       96820282|        1120|       0|                0|\n",
      "|    1755815962|2022-09-15 08:50:56|     860621|        617|      4.6|       96799856|        1120|       0|                0|\n",
      "|    1755873140|2022-09-15 08:14:12|     897177|        194|    86.81|       96797652|        1120|       0|                0|\n",
      "|    1756870334|2022-09-16 09:20:52|     534226|        604|    11.89|       96888052|        1121|       0|                0|\n",
      "|    1755767002|2022-09-15 11:15:31|     829411|        213|    10.12|       96808531|        1120|       0|                0|\n",
      "+--------------+-------------------+-----------+-----------+---------+---------------+------------+--------+-----------------+\n",
      "only showing top 5 rows\n",
      "\n"
     ]
    }
   ],
   "execution_count": 20
  },
  {
   "cell_type": "code",
   "id": "a390133a5268ba58",
   "metadata": {
    "ExecuteTime": {
     "end_time": "2025-02-15T14:05:06.098919Z",
     "start_time": "2025-02-15T14:05:01.889243Z"
    }
   },
   "source": [
    "raw_count= df_raw.count()\n",
    "print(raw_count)"
   ],
   "outputs": [
    {
     "name": "stdout",
     "output_type": "stream",
     "text": [
      "46993904\n"
     ]
    }
   ],
   "execution_count": 21
  },
  {
   "metadata": {
    "ExecuteTime": {
     "end_time": "2025-02-15T14:06:44.252781Z",
     "start_time": "2025-02-15T14:06:29.553873Z"
    }
   },
   "cell_type": "code",
   "source": "df_raw.describe().show()",
   "id": "14e4fe06b08b44a3",
   "outputs": [
    {
     "name": "stdout",
     "output_type": "stream",
     "text": [
      "+-------+--------------------+------------------+------------------+------------------+------------------+-----------------+-------------------+-------------------+\n",
      "|summary|      transaction_id|       customer_id|       terminal_id|         tx_amount|   tx_time_seconds|     tx_time_days|           tx_fraud|  tx_fraud_scenario|\n",
      "+-------+--------------------+------------------+------------------+------------------+------------------+-----------------+-------------------+-------------------+\n",
      "|  count|            46993904|          46993904|          46993491|          46993904|          46993904|         46993904|           46993904|           46993904|\n",
      "|   mean|1.7622985251184585E9| 500451.4223348841|  26879.9722196208| 54.22865285548602|9.71999573775784E7|1124.499529811356|0.05413310628544502|0.10908421228421457|\n",
      "| stddev|1.3565952932285953E7|288557.93352669955|1536397.0764264867|41.262622987753744| 748045.1067485658|8.655393634476038|0.22628016744490473|0.45806161067937196|\n",
      "|    min|          1738801610|                 0|                 0|               0.0|          95904000|             1110|                  0|                  0|\n",
      "|    max|          1785795451|            999999|          89518096|           3823.85|          98496000|             1139|                  1|                  3|\n",
      "+-------+--------------------+------------------+------------------+------------------+------------------+-----------------+-------------------+-------------------+\n",
      "\n"
     ]
    }
   ],
   "execution_count": 23
  },
  {
   "metadata": {},
   "cell_type": "markdown",
   "source": "# Поиск незаполненных значений",
   "id": "e90b60d5d3b9b0f9"
  },
  {
   "metadata": {
    "ExecuteTime": {
     "end_time": "2025-02-14T09:58:07.068810Z",
     "start_time": "2025-02-14T09:58:07.063758Z"
    }
   },
   "cell_type": "code",
   "source": "df_raw.columns",
   "id": "a14c5d989685d1f2",
   "outputs": [
    {
     "data": {
      "text/plain": [
       "['transaction_id',\n",
       " 'tx_datetime',\n",
       " 'customer_id',\n",
       " 'terminal_id',\n",
       " 'tx_amount',\n",
       " 'tx_time_seconds',\n",
       " 'tx_time_days',\n",
       " 'tx_fraud',\n",
       " 'tx_fraud_scenario']"
      ]
     },
     "execution_count": 44,
     "metadata": {},
     "output_type": "execute_result"
    }
   ],
   "execution_count": 44
  },
  {
   "metadata": {
    "ExecuteTime": {
     "end_time": "2025-02-15T13:58:25.745253Z",
     "start_time": "2025-02-15T13:58:14.167299Z"
    }
   },
   "cell_type": "code",
   "source": [
    "\n",
    "df_raw.select([count(when(isnull(c), c)).alias(c) for c in df_raw.columns]).show()"
   ],
   "id": "7ea18132eed53db0",
   "outputs": [
    {
     "name": "stdout",
     "output_type": "stream",
     "text": [
      "+--------------+-----------+-----------+-----------+---------+---------------+------------+--------+-----------------+\n",
      "|transaction_id|tx_datetime|customer_id|terminal_id|tx_amount|tx_time_seconds|tx_time_days|tx_fraud|tx_fraud_scenario|\n",
      "+--------------+-----------+-----------+-----------+---------+---------------+------------+--------+-----------------+\n",
      "|             0|         96|          0|        413|        0|              0|           0|       0|                0|\n",
      "+--------------+-----------+-----------+-----------+---------+---------------+------------+--------+-----------------+\n",
      "\n"
     ]
    }
   ],
   "execution_count": 10
  },
  {
   "metadata": {},
   "cell_type": "markdown",
   "source": [
    "Видим, что колонки tx_datetime, terminal_id содержат null значения.\n",
    "Удалим такие данные - не будем обрабатывать их."
   ],
   "id": "d4752e60f75115b3"
  },
  {
   "metadata": {
    "ExecuteTime": {
     "end_time": "2025-02-15T14:07:28.580637Z",
     "start_time": "2025-02-15T14:07:28.568104Z"
    }
   },
   "cell_type": "code",
   "source": "df = df_raw.na.drop()",
   "id": "9f996fa8b299015e",
   "outputs": [],
   "execution_count": 24
  },
  {
   "metadata": {
    "ExecuteTime": {
     "end_time": "2025-02-15T14:07:41.066928Z",
     "start_time": "2025-02-15T14:07:35.057083Z"
    }
   },
   "cell_type": "code",
   "source": [
    "count_notnull = df.count()\n",
    "print(count_notnull)"
   ],
   "id": "bb1089e796eda69",
   "outputs": [
    {
     "name": "stdout",
     "output_type": "stream",
     "text": [
      "46993395\n"
     ]
    }
   ],
   "execution_count": 25
  },
  {
   "metadata": {
    "ExecuteTime": {
     "end_time": "2025-02-15T16:13:19.140925Z",
     "start_time": "2025-02-15T16:13:19.133498Z"
    }
   },
   "cell_type": "code",
   "source": "raw_count-count_notnull",
   "id": "460cb6994f0d440",
   "outputs": [
    {
     "data": {
      "text/plain": [
       "509"
      ]
     },
     "execution_count": 64,
     "metadata": {},
     "output_type": "execute_result"
    }
   ],
   "execution_count": 64
  },
  {
   "metadata": {},
   "cell_type": "markdown",
   "source": "# Дубликаты",
   "id": "cbe3198c9fa0ac6c"
  },
  {
   "metadata": {
    "ExecuteTime": {
     "end_time": "2025-02-15T14:28:11.167583Z",
     "start_time": "2025-02-15T14:27:36.325249Z"
    }
   },
   "cell_type": "code",
   "source": [
    "distinct_count = df.distinct().count()\n",
    "print(distinct_count)"
   ],
   "id": "978d704fcd567799",
   "outputs": [],
   "execution_count": 28
  },
  {
   "metadata": {
    "ExecuteTime": {
     "end_time": "2025-02-15T14:28:23.679596Z",
     "start_time": "2025-02-15T14:28:23.672568Z"
    }
   },
   "cell_type": "code",
   "source": "count_notnull-distinct_count",
   "id": "c5e5dcbb93657c99",
   "outputs": [
    {
     "data": {
      "text/plain": [
       "62"
      ]
     },
     "execution_count": 30,
     "metadata": {},
     "output_type": "execute_result"
    }
   ],
   "execution_count": 30
  },
  {
   "metadata": {},
   "cell_type": "markdown",
   "source": [
    "# Распределение данных по колонкам\n",
    "\n",
    "## tx_fraud_scenario"
   ],
   "id": "f553bd2ffc908b71"
  },
  {
   "metadata": {
    "ExecuteTime": {
     "end_time": "2025-02-15T14:30:35.963629Z",
     "start_time": "2025-02-15T14:30:01.490206Z"
    }
   },
   "cell_type": "code",
   "source": [
    "(df.groupBy('tx_fraud_scenario')  # Group by 'customer_id'\n",
    "   .count()                 # Count the number of rows per group\n",
    "   .sort('count', ascending=False)  # Sort by the count in descending order\n",
    "   .show())                 # Show the result"
   ],
   "id": "1eb90b973a1442b9",
   "outputs": [
    {
     "name": "stdout",
     "output_type": "stream",
     "text": [
      "+-----------------+--------+\n",
      "|tx_fraud_scenario|   count|\n",
      "+-----------------+--------+\n",
      "|                0|44449445|\n",
      "|                2| 2453878|\n",
      "|                3|   64225|\n",
      "|                1|   25785|\n",
      "+-----------------+--------+\n",
      "\n"
     ]
    }
   ],
   "execution_count": 32
  },
  {
   "metadata": {},
   "cell_type": "markdown",
   "source": "Каких-то аномалий не видно",
   "id": "a34d81f8639cc4f2"
  },
  {
   "metadata": {},
   "cell_type": "markdown",
   "source": [
    "## customer_id\n",
    "Top-N кастомеров по количеству транзакций"
   ],
   "id": "2f26539dc52fcd4e"
  },
  {
   "metadata": {
    "ExecuteTime": {
     "end_time": "2025-02-15T15:31:37.236152Z",
     "start_time": "2025-02-15T15:31:04.088148Z"
    }
   },
   "cell_type": "code",
   "source": [
    "(df.groupBy('customer_id')  # Group by 'customer_id'\n",
    "   .count()                 # Count the number of rows per group\n",
    "   .sort('count', ascending=False)  # Sort by the count in descending order\n",
    "   .show(10))"
   ],
   "id": "2cefd5dbebbac716",
   "outputs": [
    {
     "name": "stdout",
     "output_type": "stream",
     "text": [
      "+-----------+-----+\n",
      "|customer_id|count|\n",
      "+-----------+-----+\n",
      "|      22459|  121|\n",
      "|     649472|  120|\n",
      "|     661757|  120|\n",
      "|     722713|  119|\n",
      "|     382529|  118|\n",
      "|     692219|  117|\n",
      "|     618973|  117|\n",
      "|     652559|  117|\n",
      "|     485437|  117|\n",
      "|     827997|  117|\n",
      "+-----------+-----+\n",
      "only showing top 10 rows\n",
      "\n"
     ]
    }
   ],
   "execution_count": 47
  },
  {
   "metadata": {},
   "cell_type": "markdown",
   "source": "Построим график",
   "id": "ad79713f099b8da2"
  },
  {
   "metadata": {
    "ExecuteTime": {
     "end_time": "2025-02-15T15:57:55.755453Z",
     "start_time": "2025-02-15T15:57:55.719410Z"
    }
   },
   "cell_type": "code",
   "source": [
    "import matplotlib.pyplot as plt\n",
    "import seaborn as sns\n",
    "\n",
    "customers_count_by_transactions_count_df = ((df.groupBy('customer_id')\n",
    "   .count()\n",
    "   .withColumnRenamed(\"count\", \"transactions_count\"))\n",
    ".groupBy('transactions_count')\n",
    ".count()\n",
    " .withColumnRenamed(\"count\", \"customers_count\")\n",
    " .sort('transactions_count', ascending=False))"
   ],
   "id": "5512e8f982bc818",
   "outputs": [],
   "execution_count": 58
  },
  {
   "metadata": {
    "ExecuteTime": {
     "end_time": "2025-02-15T15:58:47.486233Z",
     "start_time": "2025-02-15T15:58:05.504631Z"
    }
   },
   "cell_type": "code",
   "source": "customers_count_by_transactions_count_df.show(5)",
   "id": "7032dd8070ae19ee",
   "outputs": [
    {
     "name": "stdout",
     "output_type": "stream",
     "text": [
      "+------------------+---------------+\n",
      "|transactions_count|customers_count|\n",
      "+------------------+---------------+\n",
      "|               121|              1|\n",
      "|               120|              2|\n",
      "|               119|              1|\n",
      "|               118|              1|\n",
      "|               117|             10|\n",
      "+------------------+---------------+\n",
      "only showing top 5 rows\n",
      "\n"
     ]
    }
   ],
   "execution_count": 59
  },
  {
   "metadata": {
    "ExecuteTime": {
     "end_time": "2025-02-15T15:57:27.868936Z",
     "start_time": "2025-02-15T15:57:25.935600Z"
    }
   },
   "cell_type": "code",
   "source": [
    "\n",
    "pd = customers_count_by_transactions_count_df.toPandas()\n",
    "\n",
    "plt.figure(figsize=(10, 6))\n",
    "sns.lineplot(x='transactions_count', y='customers_count', data=pd)\n",
    "plt.xlabel('transactions_count')\n",
    "plt.ylabel('customers_count')\n",
    "plt.title('customers_count by transactions_count ')\n",
    "plt.show()"
   ],
   "id": "4ee2c5c3691d2b31",
   "outputs": [
    {
     "data": {
      "text/plain": [
       "<Figure size 720x432 with 1 Axes>"
      ],
      "image/png": "[encoded data removed]"
     },
     "metadata": {
      "needs_background": "light"
     },
     "output_type": "display_data"
    }
   ],
   "execution_count": 57
  },
  {
   "metadata": {},
   "cell_type": "markdown",
   "source": "Посмотрим на данные с customer_id=0. Возможно, их стоит отфильтровывать:",
   "id": "4034d80b23f774c9"
  },
  {
   "metadata": {
    "ExecuteTime": {
     "end_time": "2025-02-15T16:01:54.064314Z",
     "start_time": "2025-02-15T16:01:37.123558Z"
    }
   },
   "cell_type": "code",
   "source": "df.filter(df.customer_id==0).show(5)",
   "id": "7fd7cb4f6f2cf0fa",
   "outputs": [
    {
     "name": "stdout",
     "output_type": "stream",
     "text": [
      "+--------------+-------------------+-----------+-----------+---------+---------------+------------+--------+-----------------+\n",
      "|transaction_id|        tx_datetime|customer_id|terminal_id|tx_amount|tx_time_seconds|tx_time_days|tx_fraud|tx_fraud_scenario|\n",
      "+--------------+-------------------+-----------+-----------+---------+---------------+------------+--------+-----------------+\n",
      "|    1782663048|2022-10-03 06:39:17|          0|        711|    54.41|       98347157|        1138|       0|                0|\n",
      "|    1781096745|2022-10-02 17:27:30|          0|        711|    39.41|       98299650|        1137|       0|                0|\n",
      "|    1774829369|2022-09-28 12:17:44|          0|         53|    47.19|       97935464|        1133|       0|                0|\n",
      "|    1777963092|2022-09-30 21:22:00|          0|        934|    42.61|       98140920|        1135|       0|                0|\n",
      "|    1770132988|2022-09-25 19:24:38|          0|        832|    52.14|       97701878|        1130|       0|                0|\n",
      "+--------------+-------------------+-----------+-----------+---------+---------------+------------+--------+-----------------+\n",
      "only showing top 5 rows\n",
      "\n"
     ]
    }
   ],
   "execution_count": 60
  },
  {
   "metadata": {},
   "cell_type": "markdown",
   "source": "## terminal_id",
   "id": "9f0509b35102fc8f"
  },
  {
   "metadata": {
    "ExecuteTime": {
     "end_time": "2025-02-15T16:02:44.776450Z",
     "start_time": "2025-02-15T16:02:36.809560Z"
    }
   },
   "cell_type": "code",
   "source": "df.filter(df.terminal_id==0).show(5)",
   "id": "79832704db852c49",
   "outputs": [
    {
     "name": "stdout",
     "output_type": "stream",
     "text": [
      "+--------------+-------------------+-----------+-----------+---------+---------------+------------+--------+-----------------+\n",
      "|transaction_id|        tx_datetime|customer_id|terminal_id|tx_amount|tx_time_seconds|tx_time_days|tx_fraud|tx_fraud_scenario|\n",
      "+--------------+-------------------+-----------+-----------+---------+---------------+------------+--------+-----------------+\n",
      "|    1776393649|2022-09-28 09:43:05|     998575|          0|     89.0|       97926185|        1133|       0|                0|\n",
      "|    1776602453|2022-09-29 17:18:03|     132032|          0|    32.09|       98039883|        1134|       0|                0|\n",
      "|    1777310517|2022-09-29 06:35:11|     584255|          0|   171.34|       98001311|        1134|       0|                0|\n",
      "|    1776046730|2022-09-28 13:19:33|     776986|          0|    42.29|       97939173|        1133|       0|                0|\n",
      "|    1776595268|2022-09-29 07:13:32|     127511|          0|    36.08|       98003612|        1134|       0|                0|\n",
      "+--------------+-------------------+-----------+-----------+---------+---------------+------------+--------+-----------------+\n",
      "only showing top 5 rows\n",
      "\n"
     ]
    }
   ],
   "execution_count": 61
  },
  {
   "metadata": {},
   "cell_type": "markdown",
   "source": [
    "# tx_amount\n",
    "\n",
    "Нулевая сумма транзакции выглядит подозрительно. Посмотрим на данные"
   ],
   "id": "a41902679361c7d"
  },
  {
   "metadata": {
    "ExecuteTime": {
     "end_time": "2025-02-15T16:09:02.310342Z",
     "start_time": "2025-02-15T16:08:48.799419Z"
    }
   },
   "cell_type": "code",
   "source": "df.filter(df.tx_amount==0).show(5)",
   "id": "95469047cdb63212",
   "outputs": [
    {
     "name": "stdout",
     "output_type": "stream",
     "text": [
      "+--------------+-------------------+-----------+-----------+---------+---------------+------------+--------+-----------------+\n",
      "|transaction_id|        tx_datetime|customer_id|terminal_id|tx_amount|tx_time_seconds|tx_time_days|tx_fraud|tx_fraud_scenario|\n",
      "+--------------+-------------------+-----------+-----------+---------+---------------+------------+--------+-----------------+\n",
      "|    1771462436|2022-09-25 04:03:27|     849633|        568|      0.0|       97646607|        1130|       0|                0|\n",
      "|    1773322386|2022-09-27 11:34:42|      38327|        346|      0.0|       97846482|        1132|       0|                0|\n",
      "|    1754786235|2022-09-15 14:56:25|     204274|         81|      0.0|       96821785|        1120|       0|                0|\n",
      "|    1749985329|2022-09-12 10:06:28|     140179|        266|      0.0|       96545188|        1117|       0|                0|\n",
      "|    1740540516|2022-09-06 17:55:56|     111157|        394|      0.0|       96054956|        1111|       0|                0|\n",
      "+--------------+-------------------+-----------+-----------+---------+---------------+------------+--------+-----------------+\n",
      "only showing top 5 rows\n",
      "\n"
     ]
    }
   ],
   "execution_count": 62
  },
  {
   "metadata": {},
   "cell_type": "markdown",
   "source": "Оценим количество",
   "id": "34839bcd02a19762"
  },
  {
   "metadata": {
    "ExecuteTime": {
     "end_time": "2025-02-15T16:10:21.454532Z",
     "start_time": "2025-02-15T16:10:07.727549Z"
    }
   },
   "cell_type": "code",
   "source": "df.filter(df.tx_amount==0).count()",
   "id": "f8bd4ed671642010",
   "outputs": [
    {
     "data": {
      "text/plain": [
       "872"
      ]
     },
     "execution_count": 63,
     "metadata": {},
     "output_type": "execute_result"
    }
   ],
   "execution_count": 63
  },
  {
   "metadata": {},
   "cell_type": "markdown",
   "source": [
    "# Вывод\n",
    "\n",
    "При загрузке данных наложим следующие ограничения\n",
    "1) данные с null значениями не загружать (509 строк)\n",
    "2) данные с нулевой суммой транзакции не загружать (872 строки)\n",
    "3) дубликаты строк не загружать (62 строки)\n",
    "\n",
    "Новая схема данных для загрузки из текстового формата:"
   ],
   "id": "937a305614a0536c"
  },
  {
   "metadata": {
    "ExecuteTime": {
     "end_time": "2025-02-15T16:18:06.873069Z",
     "start_time": "2025-02-15T16:18:06.866637Z"
    }
   },
   "cell_type": "code",
   "source": [
    "from pyspark.sql.types import StructType, StructField, LongType, TimestampType, IntegerType, DoubleType\n",
    "\n",
    "schema_not_null = StructType([\n",
    "    StructField(\"transaction_id\", LongType(), False),\n",
    "    StructField(\"tx_datetime\", TimestampType(), False),\n",
    "    StructField(\"customer_id\", IntegerType(), False),\n",
    "    StructField(\"terminal_id\", IntegerType(), False),\n",
    "    StructField(\"tx_amount\", DoubleType(), False),\n",
    "    StructField(\"tx_time_seconds\", LongType(), False),\n",
    "    StructField(\"tx_time_days\", IntegerType(), False),\n",
    "    StructField(\"tx_fraud\", IntegerType(), False),\n",
    "    StructField(\"tx_fraud_scenario\", IntegerType(), False)\n",
    "])"
   ],
   "id": "abbeba4f20e4346",
   "outputs": [],
   "execution_count": 65
  },
  {
   "metadata": {},
   "cell_type": "markdown",
   "source": "Очистка датасета:",
   "id": "943fea53c3943bf7"
  },
  {
   "metadata": {},
   "cell_type": "code",
   "outputs": [],
   "execution_count": null,
   "source": "df_clean=df_raw.distinct().filter(df.tx_amount>0)",
   "id": "3717d568b9437cee"
  },
  {
   "metadata": {},
   "cell_type": "markdown",
   "source": "",
   "id": "dd2d36a651d05c56"
  }
 ],
 "metadata": {
  "kernelspec": {
   "display_name": "Python 3",
   "language": "python",
   "name": "python3"
  },
  "language_info": {
   "codemirror_mode": {
    "name": "ipython",
    "version": 3
   },
   "file_extension": ".py",
   "mimetype": "text/x-python",
   "name": "python",
   "nbconvert_exporter": "python",
   "pygments_lexer": "ipython3",
   "version": "3.8.10"
  }
 },
 "nbformat": 4,
 "nbformat_minor": 5
}
